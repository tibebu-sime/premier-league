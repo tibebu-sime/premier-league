{
  "nbformat": 4,
  "nbformat_minor": 0,
  "metadata": {
    "colab": {
      "name": "PLData_Viz_Exercise.ipynb",
      "provenance": [],
      "authorship_tag": "ABX9TyNcLg0625HJ4hqshDldKSFe"
    },
    "kernelspec": {
      "name": "python3",
      "display_name": "Python 3"
    },
    "language_info": {
      "name": "python"
    }
  },
  "cells": [
    {
      "cell_type": "code",
      "metadata": {
        "colab": {
          "base_uri": "https://localhost:8080/"
        },
        "id": "TpZfVTTsqPSZ",
        "outputId": "33f16000-e8b1-48d4-caad-de3e22a1be75"
      },
      "source": [
        "from google.colab import drive\n",
        "drive.mount('/content/drive')"
      ],
      "execution_count": 49,
      "outputs": [
        {
          "output_type": "stream",
          "text": [
            "Drive already mounted at /content/drive; to attempt to forcibly remount, call drive.mount(\"/content/drive\", force_remount=True).\n"
          ],
          "name": "stdout"
        }
      ]
    },
    {
      "cell_type": "code",
      "metadata": {
        "id": "ZQGbRg1Gqv9x"
      },
      "source": [
        "import pandas as pd\n",
        "import numpy as np\n",
        "import matplotlib.pyplot as plt\n",
        "import seaborn as sns"
      ],
      "execution_count": 50,
      "outputs": []
    },
    {
      "cell_type": "code",
      "metadata": {
        "colab": {
          "base_uri": "https://localhost:8080/",
          "height": 202
        },
        "id": "h1--6it-q90Z",
        "outputId": "db130cc4-2b07-46b8-a455-ceff08c7e1a3"
      },
      "source": [
        "filename = '/content/drive/MyDrive/CodingDojo/Week3_PythonforDataVisualization/Exercises_and_Homework/PLWeek51.xlsx'\n",
        "df = pd.read_excel(filename)\n",
        "df.head()"
      ],
      "execution_count": 51,
      "outputs": [
        {
          "output_type": "execute_result",
          "data": {
            "text/html": [
              "<div>\n",
              "<style scoped>\n",
              "    .dataframe tbody tr th:only-of-type {\n",
              "        vertical-align: middle;\n",
              "    }\n",
              "\n",
              "    .dataframe tbody tr th {\n",
              "        vertical-align: top;\n",
              "    }\n",
              "\n",
              "    .dataframe thead th {\n",
              "        text-align: right;\n",
              "    }\n",
              "</style>\n",
              "<table border=\"1\" class=\"dataframe\">\n",
              "  <thead>\n",
              "    <tr style=\"text-align: right;\">\n",
              "      <th></th>\n",
              "      <th>Season</th>\n",
              "      <th>Played</th>\n",
              "      <th>Won</th>\n",
              "      <th>Drawn</th>\n",
              "      <th>Lost</th>\n",
              "      <th>Goals For</th>\n",
              "      <th>Goals Against</th>\n",
              "      <th>Goal Difference</th>\n",
              "      <th>Points</th>\n",
              "      <th>Position</th>\n",
              "      <th>Final Points</th>\n",
              "      <th>Final Position</th>\n",
              "    </tr>\n",
              "  </thead>\n",
              "  <tbody>\n",
              "    <tr>\n",
              "      <th>0</th>\n",
              "      <td>1992/93</td>\n",
              "      <td>19</td>\n",
              "      <td>9</td>\n",
              "      <td>2</td>\n",
              "      <td>8</td>\n",
              "      <td>22</td>\n",
              "      <td>20</td>\n",
              "      <td>2</td>\n",
              "      <td>29</td>\n",
              "      <td>8</td>\n",
              "      <td>56.0</td>\n",
              "      <td>10.0</td>\n",
              "    </tr>\n",
              "    <tr>\n",
              "      <th>1</th>\n",
              "      <td>1993/94</td>\n",
              "      <td>21</td>\n",
              "      <td>9</td>\n",
              "      <td>7</td>\n",
              "      <td>5</td>\n",
              "      <td>20</td>\n",
              "      <td>13</td>\n",
              "      <td>7</td>\n",
              "      <td>34</td>\n",
              "      <td>5</td>\n",
              "      <td>71.0</td>\n",
              "      <td>4.0</td>\n",
              "    </tr>\n",
              "    <tr>\n",
              "      <th>2</th>\n",
              "      <td>1994/95</td>\n",
              "      <td>19</td>\n",
              "      <td>6</td>\n",
              "      <td>6</td>\n",
              "      <td>7</td>\n",
              "      <td>23</td>\n",
              "      <td>22</td>\n",
              "      <td>1</td>\n",
              "      <td>24</td>\n",
              "      <td>11</td>\n",
              "      <td>51.0</td>\n",
              "      <td>12.0</td>\n",
              "    </tr>\n",
              "    <tr>\n",
              "      <th>3</th>\n",
              "      <td>1995/96</td>\n",
              "      <td>18</td>\n",
              "      <td>8</td>\n",
              "      <td>7</td>\n",
              "      <td>3</td>\n",
              "      <td>23</td>\n",
              "      <td>12</td>\n",
              "      <td>11</td>\n",
              "      <td>31</td>\n",
              "      <td>6</td>\n",
              "      <td>63.0</td>\n",
              "      <td>5.0</td>\n",
              "    </tr>\n",
              "    <tr>\n",
              "      <th>4</th>\n",
              "      <td>1996/97</td>\n",
              "      <td>17</td>\n",
              "      <td>10</td>\n",
              "      <td>5</td>\n",
              "      <td>2</td>\n",
              "      <td>34</td>\n",
              "      <td>16</td>\n",
              "      <td>18</td>\n",
              "      <td>35</td>\n",
              "      <td>2</td>\n",
              "      <td>68.0</td>\n",
              "      <td>3.0</td>\n",
              "    </tr>\n",
              "  </tbody>\n",
              "</table>\n",
              "</div>"
            ],
            "text/plain": [
              "    Season  Played  Won  Drawn  ...  Points  Position  Final Points  Final Position\n",
              "0  1992/93      19    9      2  ...      29         8          56.0            10.0\n",
              "1  1993/94      21    9      7  ...      34         5          71.0             4.0\n",
              "2  1994/95      19    6      6  ...      24        11          51.0            12.0\n",
              "3  1995/96      18    8      7  ...      31         6          63.0             5.0\n",
              "4  1996/97      17   10      5  ...      35         2          68.0             3.0\n",
              "\n",
              "[5 rows x 12 columns]"
            ]
          },
          "metadata": {
            "tags": []
          },
          "execution_count": 51
        }
      ]
    },
    {
      "cell_type": "code",
      "metadata": {
        "colab": {
          "base_uri": "https://localhost:8080/",
          "height": 202
        },
        "id": "ZYUUlikhrxrE",
        "outputId": "0c3c60f1-72c8-4610-9d2e-cf950022bec1"
      },
      "source": [
        "df.tail()"
      ],
      "execution_count": 9,
      "outputs": [
        {
          "output_type": "execute_result",
          "data": {
            "text/html": [
              "<div>\n",
              "<style scoped>\n",
              "    .dataframe tbody tr th:only-of-type {\n",
              "        vertical-align: middle;\n",
              "    }\n",
              "\n",
              "    .dataframe tbody tr th {\n",
              "        vertical-align: top;\n",
              "    }\n",
              "\n",
              "    .dataframe thead th {\n",
              "        text-align: right;\n",
              "    }\n",
              "</style>\n",
              "<table border=\"1\" class=\"dataframe\">\n",
              "  <thead>\n",
              "    <tr style=\"text-align: right;\">\n",
              "      <th></th>\n",
              "      <th>Season</th>\n",
              "      <th>Played</th>\n",
              "      <th>Won</th>\n",
              "      <th>Drawn</th>\n",
              "      <th>Lost</th>\n",
              "      <th>Goals For</th>\n",
              "      <th>Goals Against</th>\n",
              "      <th>Goal Difference</th>\n",
              "      <th>Points</th>\n",
              "      <th>Position</th>\n",
              "      <th>Final Points</th>\n",
              "      <th>Final Position</th>\n",
              "    </tr>\n",
              "  </thead>\n",
              "  <tbody>\n",
              "    <tr>\n",
              "      <th>24</th>\n",
              "      <td>2016/17</td>\n",
              "      <td>17</td>\n",
              "      <td>10</td>\n",
              "      <td>4</td>\n",
              "      <td>3</td>\n",
              "      <td>38</td>\n",
              "      <td>19</td>\n",
              "      <td>19</td>\n",
              "      <td>34</td>\n",
              "      <td>4</td>\n",
              "      <td>75.0</td>\n",
              "      <td>5.0</td>\n",
              "    </tr>\n",
              "    <tr>\n",
              "      <th>25</th>\n",
              "      <td>2017/18</td>\n",
              "      <td>18</td>\n",
              "      <td>10</td>\n",
              "      <td>3</td>\n",
              "      <td>5</td>\n",
              "      <td>31</td>\n",
              "      <td>20</td>\n",
              "      <td>11</td>\n",
              "      <td>33</td>\n",
              "      <td>5</td>\n",
              "      <td>63.0</td>\n",
              "      <td>6.0</td>\n",
              "    </tr>\n",
              "    <tr>\n",
              "      <th>26</th>\n",
              "      <td>2018/19</td>\n",
              "      <td>17</td>\n",
              "      <td>10</td>\n",
              "      <td>4</td>\n",
              "      <td>3</td>\n",
              "      <td>37</td>\n",
              "      <td>23</td>\n",
              "      <td>14</td>\n",
              "      <td>34</td>\n",
              "      <td>5</td>\n",
              "      <td>70.0</td>\n",
              "      <td>5.0</td>\n",
              "    </tr>\n",
              "    <tr>\n",
              "      <th>27</th>\n",
              "      <td>2019/20</td>\n",
              "      <td>17</td>\n",
              "      <td>5</td>\n",
              "      <td>7</td>\n",
              "      <td>5</td>\n",
              "      <td>24</td>\n",
              "      <td>27</td>\n",
              "      <td>-3</td>\n",
              "      <td>22</td>\n",
              "      <td>10</td>\n",
              "      <td>56.0</td>\n",
              "      <td>8.0</td>\n",
              "    </tr>\n",
              "    <tr>\n",
              "      <th>28</th>\n",
              "      <td>2020/21</td>\n",
              "      <td>13</td>\n",
              "      <td>4</td>\n",
              "      <td>2</td>\n",
              "      <td>7</td>\n",
              "      <td>11</td>\n",
              "      <td>16</td>\n",
              "      <td>-5</td>\n",
              "      <td>14</td>\n",
              "      <td>15</td>\n",
              "      <td>NaN</td>\n",
              "      <td>NaN</td>\n",
              "    </tr>\n",
              "  </tbody>\n",
              "</table>\n",
              "</div>"
            ],
            "text/plain": [
              "     Season  Played  Won  Drawn  ...  Points  Position  Final Points  Final Position\n",
              "24  2016/17      17   10      4  ...      34         4          75.0             5.0\n",
              "25  2017/18      18   10      3  ...      33         5          63.0             6.0\n",
              "26  2018/19      17   10      4  ...      34         5          70.0             5.0\n",
              "27  2019/20      17    5      7  ...      22        10          56.0             8.0\n",
              "28  2020/21      13    4      2  ...      14        15           NaN             NaN\n",
              "\n",
              "[5 rows x 12 columns]"
            ]
          },
          "metadata": {
            "tags": []
          },
          "execution_count": 9
        }
      ]
    },
    {
      "cell_type": "code",
      "metadata": {
        "id": "KIr9cSjlrNst"
      },
      "source": [
        "nRows , nCols = df.shape"
      ],
      "execution_count": 5,
      "outputs": []
    },
    {
      "cell_type": "code",
      "metadata": {
        "colab": {
          "base_uri": "https://localhost:8080/"
        },
        "id": "FmvThhhGrW3k",
        "outputId": "32b7524a-4a73-43c9-8823-68bd1e7c386c"
      },
      "source": [
        "nRows"
      ],
      "execution_count": 6,
      "outputs": [
        {
          "output_type": "execute_result",
          "data": {
            "text/plain": [
              "29"
            ]
          },
          "metadata": {
            "tags": []
          },
          "execution_count": 6
        }
      ]
    },
    {
      "cell_type": "code",
      "metadata": {
        "colab": {
          "base_uri": "https://localhost:8080/"
        },
        "id": "zJQ-awqVraVD",
        "outputId": "03ac2f6e-44e1-41f2-97b9-704c8f9c5f82"
      },
      "source": [
        "nCols"
      ],
      "execution_count": 7,
      "outputs": [
        {
          "output_type": "execute_result",
          "data": {
            "text/plain": [
              "12"
            ]
          },
          "metadata": {
            "tags": []
          },
          "execution_count": 7
        }
      ]
    },
    {
      "cell_type": "code",
      "metadata": {
        "colab": {
          "base_uri": "https://localhost:8080/"
        },
        "id": "Hb5exGNHrdL1",
        "outputId": "b5ab4910-347b-40f8-a922-9126eb917a84"
      },
      "source": [
        "df.info()"
      ],
      "execution_count": 8,
      "outputs": [
        {
          "output_type": "stream",
          "text": [
            "<class 'pandas.core.frame.DataFrame'>\n",
            "RangeIndex: 29 entries, 0 to 28\n",
            "Data columns (total 12 columns):\n",
            " #   Column           Non-Null Count  Dtype  \n",
            "---  ------           --------------  -----  \n",
            " 0   Season           29 non-null     object \n",
            " 1   Played           29 non-null     int64  \n",
            " 2   Won              29 non-null     int64  \n",
            " 3   Drawn            29 non-null     int64  \n",
            " 4   Lost             29 non-null     int64  \n",
            " 5   Goals For        29 non-null     int64  \n",
            " 6   Goals Against    29 non-null     int64  \n",
            " 7   Goal Difference  29 non-null     int64  \n",
            " 8   Points           29 non-null     int64  \n",
            " 9   Position         29 non-null     int64  \n",
            " 10  Final Points     28 non-null     float64\n",
            " 11  Final Position   28 non-null     float64\n",
            "dtypes: float64(2), int64(9), object(1)\n",
            "memory usage: 2.8+ KB\n"
          ],
          "name": "stdout"
        }
      ]
    },
    {
      "cell_type": "code",
      "metadata": {
        "id": "0UoyeKNvtuSM"
      },
      "source": [
        "df['Final Points'].fillna(value=61, inplace=True)\n",
        "df.tail()"
      ],
      "execution_count": null,
      "outputs": []
    },
    {
      "cell_type": "code",
      "metadata": {
        "colab": {
          "base_uri": "https://localhost:8080/",
          "height": 202
        },
        "id": "m2epYW_aud0l",
        "outputId": "e9b2116b-b7c2-4729-83ca-c3a1e2771030"
      },
      "source": [
        "df['Final Position'].fillna(value=8, inplace=True)\n",
        "df.tail()"
      ],
      "execution_count": 13,
      "outputs": [
        {
          "output_type": "execute_result",
          "data": {
            "text/html": [
              "<div>\n",
              "<style scoped>\n",
              "    .dataframe tbody tr th:only-of-type {\n",
              "        vertical-align: middle;\n",
              "    }\n",
              "\n",
              "    .dataframe tbody tr th {\n",
              "        vertical-align: top;\n",
              "    }\n",
              "\n",
              "    .dataframe thead th {\n",
              "        text-align: right;\n",
              "    }\n",
              "</style>\n",
              "<table border=\"1\" class=\"dataframe\">\n",
              "  <thead>\n",
              "    <tr style=\"text-align: right;\">\n",
              "      <th></th>\n",
              "      <th>Season</th>\n",
              "      <th>Played</th>\n",
              "      <th>Won</th>\n",
              "      <th>Drawn</th>\n",
              "      <th>Lost</th>\n",
              "      <th>Goals For</th>\n",
              "      <th>Goals Against</th>\n",
              "      <th>Goal Difference</th>\n",
              "      <th>Points</th>\n",
              "      <th>Position</th>\n",
              "      <th>Final Points</th>\n",
              "      <th>Final Position</th>\n",
              "    </tr>\n",
              "  </thead>\n",
              "  <tbody>\n",
              "    <tr>\n",
              "      <th>24</th>\n",
              "      <td>2016/17</td>\n",
              "      <td>17</td>\n",
              "      <td>10</td>\n",
              "      <td>4</td>\n",
              "      <td>3</td>\n",
              "      <td>38</td>\n",
              "      <td>19</td>\n",
              "      <td>19</td>\n",
              "      <td>34</td>\n",
              "      <td>4</td>\n",
              "      <td>75.0</td>\n",
              "      <td>5.0</td>\n",
              "    </tr>\n",
              "    <tr>\n",
              "      <th>25</th>\n",
              "      <td>2017/18</td>\n",
              "      <td>18</td>\n",
              "      <td>10</td>\n",
              "      <td>3</td>\n",
              "      <td>5</td>\n",
              "      <td>31</td>\n",
              "      <td>20</td>\n",
              "      <td>11</td>\n",
              "      <td>33</td>\n",
              "      <td>5</td>\n",
              "      <td>63.0</td>\n",
              "      <td>6.0</td>\n",
              "    </tr>\n",
              "    <tr>\n",
              "      <th>26</th>\n",
              "      <td>2018/19</td>\n",
              "      <td>17</td>\n",
              "      <td>10</td>\n",
              "      <td>4</td>\n",
              "      <td>3</td>\n",
              "      <td>37</td>\n",
              "      <td>23</td>\n",
              "      <td>14</td>\n",
              "      <td>34</td>\n",
              "      <td>5</td>\n",
              "      <td>70.0</td>\n",
              "      <td>5.0</td>\n",
              "    </tr>\n",
              "    <tr>\n",
              "      <th>27</th>\n",
              "      <td>2019/20</td>\n",
              "      <td>17</td>\n",
              "      <td>5</td>\n",
              "      <td>7</td>\n",
              "      <td>5</td>\n",
              "      <td>24</td>\n",
              "      <td>27</td>\n",
              "      <td>-3</td>\n",
              "      <td>22</td>\n",
              "      <td>10</td>\n",
              "      <td>56.0</td>\n",
              "      <td>8.0</td>\n",
              "    </tr>\n",
              "    <tr>\n",
              "      <th>28</th>\n",
              "      <td>2020/21</td>\n",
              "      <td>13</td>\n",
              "      <td>4</td>\n",
              "      <td>2</td>\n",
              "      <td>7</td>\n",
              "      <td>11</td>\n",
              "      <td>16</td>\n",
              "      <td>-5</td>\n",
              "      <td>14</td>\n",
              "      <td>15</td>\n",
              "      <td>61.0</td>\n",
              "      <td>8.0</td>\n",
              "    </tr>\n",
              "  </tbody>\n",
              "</table>\n",
              "</div>"
            ],
            "text/plain": [
              "     Season  Played  Won  Drawn  ...  Points  Position  Final Points  Final Position\n",
              "24  2016/17      17   10      4  ...      34         4          75.0             5.0\n",
              "25  2017/18      18   10      3  ...      33         5          63.0             6.0\n",
              "26  2018/19      17   10      4  ...      34         5          70.0             5.0\n",
              "27  2019/20      17    5      7  ...      22        10          56.0             8.0\n",
              "28  2020/21      13    4      2  ...      14        15          61.0             8.0\n",
              "\n",
              "[5 rows x 12 columns]"
            ]
          },
          "metadata": {
            "tags": []
          },
          "execution_count": 13
        }
      ]
    },
    {
      "cell_type": "code",
      "metadata": {
        "id": "4mOOPS7tuoqe"
      },
      "source": [
        "df.info()"
      ],
      "execution_count": null,
      "outputs": []
    },
    {
      "cell_type": "markdown",
      "metadata": {
        "id": "Imz63wvO7Dx-"
      },
      "source": [
        "#Task\n",
        "Background: Arsenal is a professional football club based in London that plays in the Englishe Premier League. \n",
        "\n",
        "The dataset collected is based on Arsenal game results after some matches played up to December 18th each year from 1992/93 to 2020/21. I am interested in comparing games won, lost and drawn against the total matches played. Based on the output of the visualization, I will give my prediction of how the remaining season is going to look like for the Gunners. \n",
        "\n"
      ]
    },
    {
      "cell_type": "code",
      "metadata": {
        "id": "6Tyi7octvB08"
      },
      "source": [
        "won = np.array(df['Won'])\n",
        "lost = np.array(df['Lost'])\n",
        "drawn = np.array(df['Drawn'])\n",
        "seasons = np.array(df['Season'])"
      ],
      "execution_count": 62,
      "outputs": []
    },
    {
      "cell_type": "code",
      "metadata": {
        "id": "PQfll_mDTU9t"
      },
      "source": [
        "current_rank = np.array(df['Position'])\n",
        "final_rank = np.array(df['Final Position'])"
      ],
      "execution_count": 64,
      "outputs": []
    },
    {
      "cell_type": "code",
      "metadata": {
        "colab": {
          "base_uri": "https://localhost:8080/",
          "height": 665
        },
        "id": "uq8uJqm_wwed",
        "outputId": "c7056709-a2c9-47ea-af47-073f9e9d9cfa"
      },
      "source": [
        "# Help from: https://www.weirdgeek.com/2018/11/plotting-stacked-bar-graph/\n",
        "plt.style.use('seaborn')\n",
        "fig, axs = plt.subplots(nrows=2, ncols=1, sharex=True, figsize=(16, 10))\n",
        "axs[0].bar(seasons, drawn, color='orange', label='Drawn', bottom=lost+won)\n",
        "axs[0].bar(seasons, lost, color='red', label='Lost', bottom=won)\n",
        "axs[0].bar(seasons, won, color='darkblue', label='Won', bottom=None)\n",
        "plt.xticks(rotation=90, fontsize=12, fontweight='bold')\n",
        "plt.yticks(fontsize=12, fontweight='bold')\n",
        "\n",
        "font = {'family': 'serif', \n",
        "        'fontstyle': 'italic',\n",
        "        'fontsize': 16,\n",
        "        'fontweight': 'bold',\n",
        "        'color': 'DarkBlue'\n",
        "        }\n",
        "axs[0].set_title('Game Outcome by Season', fontdict=font)\n",
        "axs[0].set_ylabel('Games Played', fontdict=font)\n",
        "axs[0].legend(loc='upper right')\n",
        "\n",
        "axs[1].plot(seasons, current_rank, c='green', label='Current Rank')\n",
        "axs[1].plot(seasons, final_rank, c='red', label='Final Rank')\n",
        "axs[1].set_title('Current Rank vs Final Rank', fontdict=font)\n",
        "plt.xticks(rotation=90);\n",
        "axs[1].set_xlabel('Season', fontdict=font)\n",
        "axs[1].set_ylabel('Rank', fontdict=font)\n",
        "axs[1].legend(loc='best')\n",
        "\n",
        "plt.show()\n"
      ],
      "execution_count": 81,
      "outputs": [
        {
          "output_type": "display_data",
          "data": {
            "image/png": "[encoded data removed]",
            "text/plain": [
              "<Figure size 1152x720 with 2 Axes>"
            ]
          },
          "metadata": {
            "tags": []
          }
        }
      ]
    },
    {
      "cell_type": "markdown",
      "metadata": {
        "id": "ThojsecxO27U"
      },
      "source": [
        "\n",
        "#Conclusion\n",
        "From the stacked bar graphs and line plots, we can see that the Arsenal team was having one of their worst ever Premier League starts on record in these 3 decades.From 13 matches played so far, they have 14 points and are placed in 15th on the table. One striking point is that the number of matches lost during the 2020/21 season has been one of their highest since the season 1992/93. This trends indicates that the remainder of the season is likely to look bad for Arsenal. "
      ]
    }
  ]
}